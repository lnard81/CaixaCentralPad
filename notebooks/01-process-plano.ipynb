{
 "cells": [
  {
   "cell_type": "markdown",
   "metadata": {},
   "source": [
    "# Processamento Plano Funding"
   ]
  },
  {
   "cell_type": "markdown",
   "metadata": {},
   "source": [
    "## Objtetivo"
   ]
  },
  {
   "cell_type": "markdown",
   "metadata": {},
   "source": [
    "<li> Criar plano de funding a ser utilizado nos casamentos de origens e aplicações\n",
    "<li> Parametrizar o plano para conciliar saldos de produtos com saldos contábeis\n",
    "<li> Parametrizar o plano para permitir classificar o passivo/ativo quanto a sensibilidade de juros e prazos\n",
    "<li> Parametrizar o plano de acordo com o custo de oportunidade a ser utilizado para rentabilizar recursos captados e precificar recursos aplicados"
   ]
  },
  {
   "cell_type": "markdown",
   "metadata": {},
   "source": [
    "## Import Library"
   ]
  },
  {
   "cell_type": "code",
   "execution_count": 1,
   "metadata": {},
   "outputs": [],
   "source": [
    "# bibliotecas de manipulação\n",
    "import pandas as pd\n",
    "import numpy as np\n",
    "\n",
    "# bibliotecas de visualização\n",
    "import matplotlib as plt\n",
    "import seaborn as sns\n",
    "\n",
    "# bibliotecas de machine learning\n",
    "\n",
    "# outras bibliotecas\n",
    "import datetime\n",
    "import os\n",
    "import warnings"
   ]
  },
  {
   "cell_type": "code",
   "execution_count": 2,
   "metadata": {},
   "outputs": [],
   "source": [
    "# opções para o pandas\n",
    "pd.options.display.max_columns=None\n",
    "pd.options.display.max_rows=None\n",
    "pd.options.mode.use_inf_as_na=True\n",
    "pd.options.display.max_colwidth=None\n",
    "\n",
    "# opções para visualizações\n",
    "%matplotlib inline\n",
    "\n",
    "# opções para Jupyter notebook\n",
    "warnings.filterwarnings('ignore')"
   ]
  },
  {
   "cell_type": "markdown",
   "metadata": {},
   "source": [
    "## Importação de bibliotecas ou classes locais"
   ]
  },
  {
   "cell_type": "code",
   "execution_count": null,
   "metadata": {},
   "outputs": [],
   "source": []
  },
  {
   "cell_type": "markdown",
   "metadata": {},
   "source": [
    "## Definição de Parâmetros"
   ]
  },
  {
   "cell_type": "code",
   "execution_count": 3,
   "metadata": {},
   "outputs": [],
   "source": [
    "path_output_plano='../data/output/plano/{}'"
   ]
  },
  {
   "cell_type": "markdown",
   "metadata": {},
   "source": [
    "## Importação de Dados"
   ]
  },
  {
   "cell_type": "markdown",
   "metadata": {},
   "source": [
    "<li> Fonte A = Capturado do datamart de Carteira de crédito\n",
    "<li> Fonte B = Capturado do balanço contábil\n",
    "<li> Fonte C = Capturado do datamart de captação remunerada\n",
    "<li> Fonte D = Capturado do datamart de conta corrente\n",
    "<li> Fonte P = Capturado do datamart de conta capital"
   ]
  },
  {
   "cell_type": "code",
   "execution_count": 4,
   "metadata": {},
   "outputs": [],
   "source": [
    "# importando dados\n",
    "path='../data/input/plano/plano-funding-pad.xlsx' # insira aqui o caminho completo do arquivo\n",
    "\n",
    "df_plano=pd.read_excel(path, sheet_name='PlanoFunding', header=0)\n",
    "df_prazo=pd.read_excel(path, sheet_name='TabelaPrazosMoedaOrigem', header=0)\n",
    "\n",
    "#df_plano.drop(columns='NomePrazo', inplace=True)"
   ]
  },
  {
   "cell_type": "markdown",
   "metadata": {},
   "source": [
    "## Pré Processamento"
   ]
  },
  {
   "cell_type": "code",
   "execution_count": 5,
   "metadata": {},
   "outputs": [],
   "source": [
    "# dataframe do plano funding definitivo\n",
    "df=pd.DataFrame()\n",
    "\n",
    "# contas funding atribuídas com base nos dados de balanço\n",
    "df_plano_balanco=df_plano[(df_plano.Fonte=='B') | (df_plano.BolDesdobrarConta==1)]\n",
    "\n",
    "# contas funding atribuídas com base nos dados gerenciais do cognos\n",
    "df_plano_outros=df_plano[(df_plano.Fonte!='B') & (df_plano.BolDesdobrarConta!=1)]\n",
    "\n",
    "# adicionando contas mapeadas pela fonte \"B\" - Balanço - ao dataframe definitivo\n",
    "df=df.append(df_plano_balanco)\n",
    "\n",
    "\n",
    "# listando códigos que serão utilizados na construção do plano de funding com base no prazo e moedas\n",
    "# esses itens serão usados para mapear o balanço a partir do produto, encaixando as operações de acordo com suas características nessas codificações\n",
    "list_prazos=(\n",
    "    df_prazo[\n",
    "        (df_prazo.Origem!='MCD')\n",
    "         ].CodMoeda.to_list()\n",
    ")\n",
    "\n",
    "\n",
    "\n",
    "# adicionando as contas funding mapeadas com origem no cognos ao dataframe definitivo\n",
    "for i in df_plano_outros.index.to_list():\n",
    "    t=df_plano_outros.loc[i:i]\n",
    "    for cod_prazo in list_prazos:\n",
    "        t.CodMoeda=cod_prazo\n",
    "        df=df.append(t)"
   ]
  },
  {
   "cell_type": "markdown",
   "metadata": {},
   "source": [
    "## Merge com Prazos"
   ]
  },
  {
   "cell_type": "code",
   "execution_count": 6,
   "metadata": {},
   "outputs": [],
   "source": [
    "# fazendo merge do plano funding com plano de prazos e moedas\n",
    "df=df.merge(df_prazo, how='left', left_on=['CodMoeda'], right_on=['CodMoeda'])\n",
    "\n",
    "\n",
    "# fazendo o atributo de ordem de utilização de prazos e moedas\n",
    "df['NumOrdemUtilizacaoMoeda']=df.apply(\n",
    "    lambda x: x.NumOrdemOrigem if x.BolAplicacao==0 else x.NumOrdemAplicacao, axis=1\n",
    ")\n",
    "\n",
    "# deletando colunas não mais necessárias\n",
    "df.drop(columns=['NumOrdemOrigem', 'NumOrdemAplicacao', 'NomePrazo'], inplace=True)\n",
    "df.sort_values(by=['TipoSaldo', 'NumOrdemUtilizacaoMoeda', 'OrdemUtilizacaoFunding'], inplace=True)\n",
    "df.reset_index(inplace=True, drop=True)"
   ]
  },
  {
   "cell_type": "markdown",
   "metadata": {},
   "source": [
    "## Output"
   ]
  },
  {
   "cell_type": "code",
   "execution_count": 7,
   "metadata": {},
   "outputs": [],
   "source": [
    "# esse é o modelo de plano de funding\n",
    "# o objetivo é desdobrar todo o balanço em prazos e taxas e moedas para fazer o casamento\n",
    "# a ordenação de ordem de utilização de moedas e linhas de recursos é para distribuir os recursos captados para as aplicações\n",
    "# comissionando as captações pelos preços de transferência\n",
    "# e precificando as aplicações que usaram os recursos vinculados aos mesmos prazos, taxas e moedas\n",
    "\n",
    "df.to_excel(path_output_plano.format('plano-funding-definitivo.xlsx'), sheet_name='plano', freeze_panes=(1,1))\n"
   ]
  }
 ],
 "metadata": {
  "kernelspec": {
   "display_name": "Python 3",
   "language": "python",
   "name": "python3"
  },
  "language_info": {
   "codemirror_mode": {
    "name": "ipython",
    "version": 3
   },
   "file_extension": ".py",
   "mimetype": "text/x-python",
   "name": "python",
   "nbconvert_exporter": "python",
   "pygments_lexer": "ipython3",
   "version": "3.8.8"
  }
 },
 "nbformat": 4,
 "nbformat_minor": 4
}
